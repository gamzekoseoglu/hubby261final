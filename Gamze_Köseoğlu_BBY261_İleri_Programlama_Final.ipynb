{
  "nbformat": 4,
  "nbformat_minor": 0,
  "metadata": {
    "colab": {
      "provenance": [],
      "include_colab_link": true
    },
    "kernelspec": {
      "name": "python3",
      "display_name": "Python 3"
    },
    "language_info": {
      "name": "python"
    }
  },
  "cells": [
    {
      "cell_type": "markdown",
      "metadata": {
        "id": "view-in-github",
        "colab_type": "text"
      },
      "source": [
        "<a href=\"https://colab.research.google.com/github/gamzekoseoglu/hubby261final2/blob/main/Gamze_K%C3%B6seo%C4%9Flu_BBY261_%C4%B0leri_Programlama_Final.ipynb\" target=\"_parent\"><img src=\"https://colab.research.google.com/assets/colab-badge.svg\" alt=\"Open In Colab\"/></a>"
      ]
    },
    {
      "cell_type": "markdown",
      "source": [
        "**BBY261 Final Sınavına Hoşgeldiniz**\n",
        "\n",
        "Bu Colab not defterinin bir kopyasını kendi \"Google Drive\" hesabınızda \"Dosya >  Drive'da bir kopya kaydet\" seçeneği ile oluşturunuz. Sorulara kendi oluşturduğunuz kopya içinde yanıt veriniz. Her sorunun altında sorunun yanıtlanacağı kod alanı yer almaktadır, sadece bu alanı kullanınız.\n",
        "\n",
        "Github hesabınızda \"hubby261final\" adlı kod deposu oluşturunuz. Çalışmanızı tamamladığınızda Colab dosyanızı Github hesabınızda oluşturduğunuz \"hubby261final\" adlı kod deposuna (repository) \"Dosya > Github'da bir kopya kaydet\" seçeneği ile kaydediniz.\n",
        "\n",
        "Not: Tüm işlemleri tamamladığınızda sınavınızı başarıyla teslim edip edemediğinizi kontrol etmem gerekiyor. Bu açıdan sınavı tamamladığınızda lütfen bana haber verin ve kontrol işlemini birlikte gerçekleştirelim.\n",
        "\n",
        "Süreniz **1** saattir!\n",
        "\n",
        "*Başarılar...*"
      ],
      "metadata": {
        "id": "LwfacJaeu2VZ"
      }
    },
    {
      "cell_type": "markdown",
      "source": [
        "# Soru 1\n",
        "\n",
        "Kod bölümünde verilen paragrafın içindeki kelimelerin sıklıklarını (her bir kelimenin paragraf içinde kaç tane geçtiğini) ekrana listeyelecek kodu yazın. (25 Puan)\n",
        "\n",
        "Örnek çıktı aşağıdaki gibi olmalıdır:\n",
        "\n",
        "```\n",
        "elma - 3\n",
        "armut - 5\n",
        "karpuz - 2\n",
        "...\n",
        "```"
      ],
      "metadata": {
        "id": "N3CYVfJUyLQX"
      }
    },
    {
      "cell_type": "code",
      "execution_count": 1,
      "metadata": {
        "id": "m9Xix4Enun8Z",
        "colab": {
          "base_uri": "https://localhost:8080/"
        },
        "outputId": "485cba61-2397-42c4-aff0-8d1e1ad7ddd1"
      },
      "outputs": [
        {
          "output_type": "stream",
          "name": "stdout",
          "text": [
            "bu - 2\n",
            "bir - 1\n",
            "örnek - 3\n",
            "paragraf - 2\n",
            "içinde - 1\n",
            "kelimeler - 1\n",
            "bulunmaktadır - 1\n",
            "paragrafın - 1\n",
            "içeriği - 1\n",
            "üzerinde - 1\n",
            "çalışabilirsiniz - 1\n"
          ]
        }
      ],
      "source": [
        "#Sıklık hesabı yapılacak Paragraf\n",
        "paragraf = \"The power of open culture. At Creative Commons, we truly believe in the power of open access to cultural heritage. This type of better sharing helps build and sustain vibrant and thriving societies. Galleries, libraries, archives, and museums (GLAMs) have been the gate openers to the world’s cultural heritage for centuries, and play a fundamental role for the communities that they serve. They provide resources and services for enjoyment, education, research, and the advancement of knowledge, and stimulate creativity and innovation in the service of global sustainable development. By making their collections as openly accessible, shareable, and reusable as possible by the public — both on-site and online — they empower people, generation after generation, in offering them the scientific, historical, and socio-cultural resources to build a future for themselves and their communities. The list of GLAMs with open access programs gets longer every day. However, those programs don’t just happen. They build on the experience of pioneering GLAMs that set the trend in the early days of the open movement. Unfortunately, today still, GLAMs face many barriers in trying to make their collections openly accessible online. Creative Commons strives to support GLAMs in overcoming these barriers to achieve better sharing of cultural heritage.\"\n",
        "\n",
        "#Sizin kodlarınız\n",
        "from collections import Counter\n",
        "import re\n",
        "\n",
        "def kelime_sikliklari(paragraf):\n",
        "    # Paragrafı küçük harfe çevir ve özel karakterleri temizle\n",
        "    paragraf = re.sub(r'[^a-zA-ZğüşıöçĞÜŞİÖÇ ]', '', paragraf.lower())\n",
        "\n",
        "    # Paragrafı kelimelere ayır\n",
        "    kelimeler = paragraf.split()\n",
        "\n",
        "    # Kelimelerin sıklıklarını hesapla\n",
        "    sıklıklar = Counter(kelimeler)\n",
        "\n",
        "    # Sonuçları ekrana yazdır\n",
        "    for kelime, sıklık in sıklıklar.items():\n",
        "        print(f\"{kelime} - {sıklık}\")\n",
        "\n",
        "# Örnek bir paragraf\n",
        "paragraf = \"Bu bir örnek paragraf. Bu paragraf içinde örnek kelimeler bulunmaktadır. Örnek paragrafın içeriği üzerinde çalışabilirsiniz.\"\n",
        "\n",
        "# Fonksiyonu kullanarak sıklıkları listele\n",
        "kelime_sikliklari(paragraf)\n",
        "\n"
      ]
    },
    {
      "cell_type": "markdown",
      "source": [
        "# Soru 2\n",
        "\n",
        "Kod bölümünde verilen URL'de yer alan web sayfasında \"h2\" etiketi ile işaretlenmiş metinleri ekrana listeleyecek kodu yazın. (25 Puan)\n",
        "\n",
        "Örnek çıktı aşağıdaki gibi olmalıdır:\n",
        "\n",
        "\n",
        "```\n",
        "Who We Are\n",
        "Our mission\n",
        "Our vision\n",
        "...\n",
        "```\n",
        "\n"
      ],
      "metadata": {
        "id": "uIuXDXBd3whN"
      }
    },
    {
      "cell_type": "code",
      "source": [
        "#h2 etiketlerinin okunacağı URL\n",
        "url = \"https://creativecommons.org/mission/\"\n",
        "\n",
        "#Sizin kodlarınız\n",
        "import requests\n",
        "from bs4 import BeautifulSoup\n",
        "\n",
        "# H2 etiketlerini okunacak URL\n",
        "url = \"https://creativecommons.org/mission/\"\n",
        "\n",
        "def h2_etiketleri(url):\n",
        "    try:\n",
        "        # URL'den sayfa içeriğini al\n",
        "        response = requests.get(url)\n",
        "        response.raise_for_status()\n",
        "\n",
        "        # HTML içeriğini parse et\n",
        "        soup = BeautifulSoup(response.text, 'html.parser')\n",
        "\n",
        "        # \"h2\" etiketleri içindeki metinleri bul\n",
        "        h2_metinleri = [h2.text.strip() for h2 in soup.find_all('h2')]\n",
        "\n",
        "        # Sonuçları ekrana yazdır\n",
        "        for metin in h2_metinleri:\n",
        "            print(metin)\n",
        "    except requests.exceptions.RequestException as e:\n",
        "        print(f\"Hata: {e}\")\n",
        "\n",
        "# H2 etiketlerini listeleyerek ekrana yazdır\n",
        "h2_etiketleri(url)\n",
        "\n"
      ],
      "metadata": {
        "id": "vonGuadn4kwE",
        "colab": {
          "base_uri": "https://localhost:8080/"
        },
        "outputId": "4f2f55bf-7014-472e-ed43-4057b749b536"
      },
      "execution_count": 32,
      "outputs": [
        {
          "output_type": "stream",
          "name": "stdout",
          "text": [
            "Who We Are\n",
            "Our mission\n",
            "Our vision\n",
            "Our strategy\n",
            "Our values\n",
            "Contact Us\n",
            "Subscribe to our Newsletter\n",
            "Support Our Work\n"
          ]
        }
      ]
    },
    {
      "cell_type": "markdown",
      "source": [
        "# Soru 3\n",
        "\n",
        "Kullanıcı tarafından girilen bir sayısının asal sayı olup olmadığını kontrol edecek bir \"asal sayı tahmin oyunu\" kodlayınız. Bu oyunda kullanıcı asal sayı girdiği sürecek ikinci bir tahmin hakkı verilmeli, asal sayı girmediği zaman ise oyun sona erdirilmelidir. (25 Puan)"
      ],
      "metadata": {
        "id": "zEAR579V5al1"
      }
    },
    {
      "cell_type": "code",
      "source": [
        "\n",
        "\n",
        "# Sizin kodlarınız\n",
        "def asal_sayi_mi(sayi):\n",
        "    if sayi < 2:\n",
        "        return False\n",
        "    for i in range(2, int(sayi**0.5) + 1):\n",
        "        if sayi % i == 0:\n",
        "            return False\n",
        "    return True\n",
        "\n",
        "def asal_sayi_tahmin_oyunu():\n",
        "    try:\n",
        "        kullanici_tahmini = int(input(\"Lütfen bir sayı girin: \"))\n",
        "    except ValueError:\n",
        "        print(\"Geçersiz giriş. Lütfen bir sayı girin.\")\n",
        "        return\n",
        "\n",
        "    if asal_sayi_mi(kullanici_tahmini):\n",
        "        print(f\"Girdiğiniz {kullanici_tahmini} sayısı bir asal sayıdır!\")\n",
        "    else:\n",
        "        print(f\"Girdiğiniz {kullanici_tahmini} sayısı bir asal sayı değildir.\")\n",
        "\n",
        "# Asal sayı tahmin oyununu başlat\n",
        "asal_sayi_tahmin_oyunu()\n",
        "\n"
      ],
      "metadata": {
        "id": "ntHxasd87B1f",
        "colab": {
          "base_uri": "https://localhost:8080/"
        },
        "outputId": "93adbe5b-f800-4a3e-c838-cdec27608945"
      },
      "execution_count": 31,
      "outputs": [
        {
          "output_type": "stream",
          "name": "stdout",
          "text": [
            "Lütfen bir sayı girin: 4\n",
            "Girdiğiniz 4 sayısı bir asal sayı değildir.\n"
          ]
        }
      ]
    },
    {
      "cell_type": "markdown",
      "source": [
        "# Soru 4\n",
        "\n",
        "Kullanıcı tarafından girilen bir cümlenin \"İngilizce\" olup olmadığını anlayacak kodu yazınız. Girilen cümlenin analizinden sonra sonuç ekrana yazdırılmalı.\n",
        "\n",
        "Not: Bu soru için kullandığınız ek bir dosya varsa o dosyayı da Github deponuza eklemeyi unutmayınız.\n",
        "\n",
        "Örnek çıktı:\n",
        "\n",
        "```\n",
        "\"I want to learn Python programming in my school life\" cümlesi ingilizcedir.\n",
        "```\n"
      ],
      "metadata": {
        "id": "_3_lGQj97G4Z"
      }
    },
    {
      "cell_type": "code",
      "source": [
        "#Cümle girişi\n",
        "girdi = input(\"Bir cümle giriniz: \")\n",
        "\n",
        "# Sizin kodlarınız\n",
        "!pip install langdetect\n",
        "\n",
        "from langdetect import detect\n",
        "\n",
        "def ingilizce_mi(cumle):\n",
        "    try:\n",
        "        # langdetect kütüphanesini kullanarak dil tespiti yap\n",
        "        dil = detect(cumle)\n",
        "\n",
        "        # Tespit edilen dil İngilizce ise True, değilse False döndür\n",
        "        return dil == 'en'\n",
        "    except:\n",
        "        # Hata durumunda False döndür\n",
        "        return False\n",
        "\n",
        "# Kullanıcıdan cümle girişi al\n",
        "kullanicinin_cumlesi = input(\"Bir cümle girin: \")\n",
        "\n",
        "# İngilizce olup olmadığını kontrol et ve sonucu ekrana yazdır\n",
        "if ingilizce_mi(kullanicinin_cumlesi):\n",
        "    print(f'\"{kullanicinin_cumlesi}\" cümlesi İngilizce.')\n",
        "else:\n",
        "    print(f'\"{kullanicinin_cumlesi}\" cümlesi İngilizce değil.')\n",
        "\n",
        "\n"
      ],
      "metadata": {
        "id": "MJb8eoth-Lam",
        "colab": {
          "base_uri": "https://localhost:8080/"
        },
        "outputId": "db54f9c8-9586-4bb6-aa77-044aad4e294d"
      },
      "execution_count": 33,
      "outputs": [
        {
          "output_type": "stream",
          "name": "stdout",
          "text": [
            "Bir cümle giriniz: bisiklet sürmeyi çok severim\n",
            "Requirement already satisfied: langdetect in /usr/local/lib/python3.10/dist-packages (1.0.9)\n",
            "Requirement already satisfied: six in /usr/local/lib/python3.10/dist-packages (from langdetect) (1.16.0)\n",
            "Bir cümle girin: bisiklet sürmeyi çok severim\n",
            "\"bisiklet sürmeyi çok severim\" cümlesi İngilizce değil.\n"
          ]
        }
      ]
    }
  ]
}